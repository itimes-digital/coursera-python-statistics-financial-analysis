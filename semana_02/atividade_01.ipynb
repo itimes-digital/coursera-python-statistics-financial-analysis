{
 "cells": [
  {
   "cell_type": "markdown",
   "metadata": {},
   "source": [
    "## Outcomes and Variables"
   ]
  },
  {
   "cell_type": "code",
   "execution_count": 73,
   "metadata": {
    "collapsed": true
   },
   "outputs": [],
   "source": [
    "#import numpy and pandas package\n",
    "import numpy as np\n",
    "import pandas as pd"
   ]
  },
  {
   "cell_type": "markdown",
   "metadata": {},
   "source": [
    "### Mimic the roll dice game"
   ]
  },
  {
   "cell_type": "code",
   "execution_count": 74,
   "metadata": {},
   "outputs": [
    {
     "name": "stdout",
     "output_type": "stream",
     "text": [
      "Sum of dice is 8\n"
     ]
    }
   ],
   "source": [
    "# roll two dice for multiple times\n",
    "die = pd.DataFrame([1, 2, 3, 4, 5, 6])\n",
    "sum_of_dice = die.sample(2, replace=True).sum().loc[0]\n",
    "print('Sum of dice is', sum_of_dice)  \n",
    "\n",
    "# you may get different outcomes as we now mimic the result of rolling 2 dice, but the range must be limited between 2 and 12. "
   ]
  },
  {
   "cell_type": "code",
   "execution_count": 75,
   "metadata": {
    "collapsed": true
   },
   "outputs": [],
   "source": [
    "# It is your turn! let's replace the none with the code of rolling three dice, instead of two\n",
    "\n",
    "np.random.seed(1)  # This is for checking answer, do NOT modify this line of code\n",
    "\n",
    "#Modify the code, replace the None\n",
    "sum_of_three_dice = die.sample(3, replace=True).sum().loc[0]"
   ]
  },
  {
   "cell_type": "code",
   "execution_count": 76,
   "metadata": {},
   "outputs": [
    {
     "name": "stdout",
     "output_type": "stream",
     "text": [
      "Sum of three dice is 15\n"
     ]
    }
   ],
   "source": [
    "print('Sum of three dice is', sum_of_three_dice)"
   ]
  },
  {
   "cell_type": "markdown",
   "metadata": {},
   "source": [
    "**Expected output: ** Sum of three dice is 15"
   ]
  },
  {
   "cell_type": "markdown",
   "metadata": {},
   "source": [
    "### Mimic the roll dice game for multiple times"
   ]
  },
  {
   "cell_type": "code",
   "execution_count": 77,
   "metadata": {
    "collapsed": true
   },
   "outputs": [],
   "source": [
    "# The following code mimics the roll dice game for 50 times. And the results are all stored into \"Result\"\n",
    "# Lets try and get the results of 50 sum of faces.\n",
    "\n",
    "trial = 50\n",
    "result = [die.sample(2, replace=True).sum().loc[0] for i in range(trial)]"
   ]
  },
  {
   "cell_type": "code",
   "execution_count": 78,
   "metadata": {},
   "outputs": [
    {
     "name": "stdout",
     "output_type": "stream",
     "text": [
      "[3, 10, 2, 7, 11, 5, 11, 8, 9, 8]\n"
     ]
    }
   ],
   "source": [
    "#print the first 10 results\n",
    "print(result[:10])"
   ]
  },
  {
   "cell_type": "code",
   "execution_count": 79,
   "metadata": {},
   "outputs": [
    {
     "name": "stdout",
     "output_type": "stream",
     "text": [
      "[3, 10, 2, 7, 11, 5, 11, 8, 9, 8, 9, 7, 3, 8, 8, 4, 6, 3, 7, 7, 3, 10, 4, 9, 3, 9, 8, 7, 6, 4, 7, 6, 3, 6, 11, 10, 6, 2, 6, 6, 8, 2, 4, 10, 2, 12, 11, 8, 10, 10]\n"
     ]
    }
   ],
   "source": [
    "print(result[:50])"
   ]
  },
  {
   "cell_type": "code",
   "execution_count": 82,
   "metadata": {},
   "outputs": [
    {
     "data": {
      "text/plain": [
       "8     7\n",
       "6     7\n",
       "10    6\n",
       "7     6\n",
       "3     6\n",
       "11    4\n",
       "9     4\n",
       "4     4\n",
       "2     4\n",
       "12    1\n",
       "5     1\n",
       "Name: 0, dtype: int64"
      ]
     },
     "execution_count": 82,
     "metadata": {},
     "output_type": "execute_result"
    }
   ],
   "source": [
    "frequencia = pd.DataFrame(result)[0].value_counts()\n",
    "frequencia"
   ]
  },
  {
   "cell_type": "code",
   "execution_count": 87,
   "metadata": {},
   "outputs": [],
   "source": [
    "sort_freq = frequencia.sort_index()"
   ]
  },
  {
   "cell_type": "code",
   "execution_count": 90,
   "metadata": {},
   "outputs": [
    {
     "data": {
      "text/plain": [
       "<matplotlib.axes._subplots.AxesSubplot at 0x7fd482d67208>"
      ]
     },
     "execution_count": 90,
     "metadata": {},
     "output_type": "execute_result"
    }
   ],
   "source": [
    "sort_freq.plot(kind='bar', color='blue')"
   ]
  },
  {
   "cell_type": "code",
   "execution_count": 98,
   "metadata": {},
   "outputs": [
    {
     "data": {
      "text/plain": [
       "7"
      ]
     },
     "execution_count": 98,
     "metadata": {},
     "output_type": "execute_result"
    }
   ],
   "source": [
    "frequencia.loc[8]"
   ]
  }
 ],
 "metadata": {
  "kernelspec": {
   "display_name": "Python 3",
   "language": "python",
   "name": "python3"
  },
  "language_info": {
   "codemirror_mode": {
    "name": "ipython",
    "version": 3
   },
   "file_extension": ".py",
   "mimetype": "text/x-python",
   "name": "python",
   "nbconvert_exporter": "python",
   "pygments_lexer": "ipython3",
   "version": "3.6.2"
  }
 },
 "nbformat": 4,
 "nbformat_minor": 2
}
