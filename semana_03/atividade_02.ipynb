{
  "nbformat": 4,
  "nbformat_minor": 0,
  "metadata": {
    "kernelspec": {
      "display_name": "Python 3",
      "language": "python",
      "name": "python3"
    },
    "language_info": {
      "codemirror_mode": {
        "name": "ipython",
        "version": 3
      },
      "file_extension": ".py",
      "mimetype": "text/x-python",
      "name": "python",
      "nbconvert_exporter": "python",
      "pygments_lexer": "ipython3",
      "version": "3.6.2"
    },
    "colab": {
      "name": "atividade_02.ipynb",
      "provenance": []
    }
  },
  "cells": [
    {
      "cell_type": "markdown",
      "metadata": {
        "id": "Aoj83ooEbJED",
        "colab_type": "text"
      },
      "source": [
        "# Variation of Sample"
      ]
    },
    {
      "cell_type": "code",
      "metadata": {
        "id": "CIZuogRubJEE",
        "colab_type": "code",
        "colab": {}
      },
      "source": [
        "import pandas as pd\n",
        "import numpy as np\n",
        "from scipy.stats import norm\n",
        "%matplotlib inline"
      ],
      "execution_count": 0,
      "outputs": []
    },
    {
      "cell_type": "code",
      "metadata": {
        "id": "0LSlDeDwbJEH",
        "colab_type": "code",
        "colab": {},
        "outputId": "8a35ab20-405a-4317-bcd5-ac0ce48d6f79"
      },
      "source": [
        "# Sample mean and SD keep changing, but always within a certain range\n",
        "Fstsample = pd.DataFrame(np.random.normal(10, 5, size=30))\n",
        "print('sample mean is ', Fstsample[0].mean())\n",
        "print('sample SD is ', Fstsample[0].std(ddof=1))"
      ],
      "execution_count": 0,
      "outputs": [
        {
          "output_type": "stream",
          "text": [
            "sample mean is  11.9095195082\n",
            "sample SD is  5.72861204222\n"
          ],
          "name": "stdout"
        }
      ]
    },
    {
      "cell_type": "markdown",
      "metadata": {
        "id": "kyh3NueDbJEN",
        "colab_type": "text"
      },
      "source": [
        "## Empirical Distribution of mean"
      ]
    },
    {
      "cell_type": "code",
      "metadata": {
        "id": "k-_pMyYfbJEO",
        "colab_type": "code",
        "colab": {}
      },
      "source": [
        "meanlist = []\n",
        "for t in range(10000):\n",
        "    sample = pd.DataFrame(np.random.normal(10, 5, size=30))\n",
        "    meanlist.append(sample[0].mean())"
      ],
      "execution_count": 0,
      "outputs": []
    },
    {
      "cell_type": "code",
      "metadata": {
        "id": "BMoLntb8bJER",
        "colab_type": "code",
        "colab": {}
      },
      "source": [
        "collection = pd.DataFrame()\n",
        "collection['meanlist'] = meanlist"
      ],
      "execution_count": 0,
      "outputs": []
    },
    {
      "cell_type": "code",
      "metadata": {
        "id": "8ehKQjOUbJEU",
        "colab_type": "code",
        "colab": {},
        "outputId": "11b98d24-a608-4527-90b7-a400079fafe9"
      },
      "source": [
        "collection['meanlist'].hist(bins=100, normed=1,figsize=(15,8))"
      ],
      "execution_count": 0,
      "outputs": [
        {
          "output_type": "execute_result",
          "data": {
            "text/plain": [
              "<matplotlib.axes._subplots.AxesSubplot at 0x7f1c021ea7b8>"
            ]
          },
          "metadata": {
            "tags": []
          },
          "execution_count": 11
        },
        {
          "output_type": "display_data",
          "data": {
            "image/png": "[encoded data removed]",
            "text/plain": [
              "<matplotlib.figure.Figure at 0x7f1c0221b710>"
            ]
          },
          "metadata": {
            "tags": []
          }
        }
      ]
    },
    {
      "cell_type": "markdown",
      "metadata": {
        "id": "tNNQYyG_bJEY",
        "colab_type": "text"
      },
      "source": [
        "## Sampling from arbritary distribution"
      ]
    },
    {
      "cell_type": "code",
      "metadata": {
        "id": "NO7ipjMybJEY",
        "colab_type": "code",
        "colab": {},
        "outputId": "5c339d28-da90-4510-9913-00b750e9a740"
      },
      "source": [
        "# See what central limit theorem tells you...the sample size is larger enough, \n",
        "# the distribution of sample mean is approximately normal\n",
        "# apop is not normal, but try to change the sample size from 100 to a larger number. The distribution of sample mean of apop \n",
        "# becomes normal.\n",
        "sample_size = 1000\n",
        "samplemeanlist = []\n",
        "apop =  pd.DataFrame([1, 0, 1, 0, 1])\n",
        "for t in range(10000):\n",
        "    sample = apop[0].sample(sample_size, replace=True)  # small sample size\n",
        "    samplemeanlist.append(sample.mean())\n",
        "\n",
        "acollec = pd.DataFrame()\n",
        "acollec['meanlist'] = samplemeanlist\n",
        "acollec.hist(bins=100, normed=1,figsize=(15,8))"
      ],
      "execution_count": 0,
      "outputs": [
        {
          "output_type": "execute_result",
          "data": {
            "text/plain": [
              "array([[<matplotlib.axes._subplots.AxesSubplot object at 0x7f1bfbe87470>]], dtype=object)"
            ]
          },
          "metadata": {
            "tags": []
          },
          "execution_count": 15
        },
        {
          "output_type": "display_data",
          "data": {
            "image/png": "[encoded data removed]",
            "text/plain": [
              "<matplotlib.figure.Figure at 0x7f1bfbddae10>"
            ]
          },
          "metadata": {
            "tags": []
          }
        }
      ]
    },
    {
      "cell_type": "code",
      "metadata": {
        "id": "nJpM5QMWbwZo",
        "colab_type": "code",
        "colab": {}
      },
      "source": [
        "import numpy as np"
      ],
      "execution_count": 0,
      "outputs": []
    },
    {
      "cell_type": "code",
      "metadata": {
        "id": "qvD1xTkLbQU0",
        "colab_type": "code",
        "colab": {}
      },
      "source": [
        "base_ms = pd.read_csv('https://raw.githubusercontent.com/itimes-digital/coursera-python-statistics-financial-analysis/master/dataset/microsoft.csv')"
      ],
      "execution_count": 0,
      "outputs": []
    },
    {
      "cell_type": "code",
      "metadata": {
        "id": "DmDRpO6eb8aP",
        "colab_type": "code",
        "colab": {
          "base_uri": "https://localhost:8080/",
          "height": 359
        },
        "outputId": "d295aa3a-6588-4114-a4db-5a1e8eac8015"
      },
      "source": [
        "base_ms.head(10)"
      ],
      "execution_count": 5,
      "outputs": [
        {
          "output_type": "execute_result",
          "data": {
            "text/html": [
              "<div>\n",
              "<style scoped>\n",
              "    .dataframe tbody tr th:only-of-type {\n",
              "        vertical-align: middle;\n",
              "    }\n",
              "\n",
              "    .dataframe tbody tr th {\n",
              "        vertical-align: top;\n",
              "    }\n",
              "\n",
              "    .dataframe thead th {\n",
              "        text-align: right;\n",
              "    }\n",
              "</style>\n",
              "<table border=\"1\" class=\"dataframe\">\n",
              "  <thead>\n",
              "    <tr style=\"text-align: right;\">\n",
              "      <th></th>\n",
              "      <th>Date</th>\n",
              "      <th>Open</th>\n",
              "      <th>High</th>\n",
              "      <th>Low</th>\n",
              "      <th>Close</th>\n",
              "      <th>Adj Close</th>\n",
              "      <th>Volume</th>\n",
              "    </tr>\n",
              "  </thead>\n",
              "  <tbody>\n",
              "    <tr>\n",
              "      <th>0</th>\n",
              "      <td>2014-12-31</td>\n",
              "      <td>46.730000</td>\n",
              "      <td>47.439999</td>\n",
              "      <td>46.450001</td>\n",
              "      <td>46.450001</td>\n",
              "      <td>42.848763</td>\n",
              "      <td>21552500</td>\n",
              "    </tr>\n",
              "    <tr>\n",
              "      <th>1</th>\n",
              "      <td>2015-01-02</td>\n",
              "      <td>46.660000</td>\n",
              "      <td>47.419998</td>\n",
              "      <td>46.540001</td>\n",
              "      <td>46.759998</td>\n",
              "      <td>43.134731</td>\n",
              "      <td>27913900</td>\n",
              "    </tr>\n",
              "    <tr>\n",
              "      <th>2</th>\n",
              "      <td>2015-01-05</td>\n",
              "      <td>46.369999</td>\n",
              "      <td>46.730000</td>\n",
              "      <td>46.250000</td>\n",
              "      <td>46.330002</td>\n",
              "      <td>42.738068</td>\n",
              "      <td>39673900</td>\n",
              "    </tr>\n",
              "    <tr>\n",
              "      <th>3</th>\n",
              "      <td>2015-01-06</td>\n",
              "      <td>46.380001</td>\n",
              "      <td>46.750000</td>\n",
              "      <td>45.540001</td>\n",
              "      <td>45.650002</td>\n",
              "      <td>42.110783</td>\n",
              "      <td>36447900</td>\n",
              "    </tr>\n",
              "    <tr>\n",
              "      <th>4</th>\n",
              "      <td>2015-01-07</td>\n",
              "      <td>45.980000</td>\n",
              "      <td>46.459999</td>\n",
              "      <td>45.490002</td>\n",
              "      <td>46.230000</td>\n",
              "      <td>42.645817</td>\n",
              "      <td>29114100</td>\n",
              "    </tr>\n",
              "    <tr>\n",
              "      <th>5</th>\n",
              "      <td>2015-01-08</td>\n",
              "      <td>46.750000</td>\n",
              "      <td>47.750000</td>\n",
              "      <td>46.720001</td>\n",
              "      <td>47.590000</td>\n",
              "      <td>43.900375</td>\n",
              "      <td>29645200</td>\n",
              "    </tr>\n",
              "    <tr>\n",
              "      <th>6</th>\n",
              "      <td>2015-01-09</td>\n",
              "      <td>47.610001</td>\n",
              "      <td>47.820000</td>\n",
              "      <td>46.900002</td>\n",
              "      <td>47.189999</td>\n",
              "      <td>43.531395</td>\n",
              "      <td>23942800</td>\n",
              "    </tr>\n",
              "    <tr>\n",
              "      <th>7</th>\n",
              "      <td>2015-01-12</td>\n",
              "      <td>47.419998</td>\n",
              "      <td>47.540001</td>\n",
              "      <td>46.360001</td>\n",
              "      <td>46.599998</td>\n",
              "      <td>42.987129</td>\n",
              "      <td>23651900</td>\n",
              "    </tr>\n",
              "    <tr>\n",
              "      <th>8</th>\n",
              "      <td>2015-01-13</td>\n",
              "      <td>46.970001</td>\n",
              "      <td>47.910000</td>\n",
              "      <td>46.060001</td>\n",
              "      <td>46.360001</td>\n",
              "      <td>42.765747</td>\n",
              "      <td>35270600</td>\n",
              "    </tr>\n",
              "    <tr>\n",
              "      <th>9</th>\n",
              "      <td>2015-01-14</td>\n",
              "      <td>45.959999</td>\n",
              "      <td>46.240002</td>\n",
              "      <td>45.619999</td>\n",
              "      <td>45.959999</td>\n",
              "      <td>42.396751</td>\n",
              "      <td>29719600</td>\n",
              "    </tr>\n",
              "  </tbody>\n",
              "</table>\n",
              "</div>"
            ],
            "text/plain": [
              "         Date       Open       High        Low      Close  Adj Close    Volume\n",
              "0  2014-12-31  46.730000  47.439999  46.450001  46.450001  42.848763  21552500\n",
              "1  2015-01-02  46.660000  47.419998  46.540001  46.759998  43.134731  27913900\n",
              "2  2015-01-05  46.369999  46.730000  46.250000  46.330002  42.738068  39673900\n",
              "3  2015-01-06  46.380001  46.750000  45.540001  45.650002  42.110783  36447900\n",
              "4  2015-01-07  45.980000  46.459999  45.490002  46.230000  42.645817  29114100\n",
              "5  2015-01-08  46.750000  47.750000  46.720001  47.590000  43.900375  29645200\n",
              "6  2015-01-09  47.610001  47.820000  46.900002  47.189999  43.531395  23942800\n",
              "7  2015-01-12  47.419998  47.540001  46.360001  46.599998  42.987129  23651900\n",
              "8  2015-01-13  46.970001  47.910000  46.060001  46.360001  42.765747  35270600\n",
              "9  2015-01-14  45.959999  46.240002  45.619999  45.959999  42.396751  29719600"
            ]
          },
          "metadata": {
            "tags": []
          },
          "execution_count": 5
        }
      ]
    },
    {
      "cell_type": "code",
      "metadata": {
        "id": "SxOhDEIhbpHw",
        "colab_type": "code",
        "colab": {
          "base_uri": "https://localhost:8080/",
          "height": 419
        },
        "outputId": "bd189233-d651-4423-bf65-ad981a87a924"
      },
      "source": [
        "base_ms['logReturn'] = np.log(base_ms['Close'].shift(-1)) - np.log(base_ms['Close'])\n",
        "base_ms"
      ],
      "execution_count": 7,
      "outputs": [
        {
          "output_type": "execute_result",
          "data": {
            "text/html": [
              "<div>\n",
              "<style scoped>\n",
              "    .dataframe tbody tr th:only-of-type {\n",
              "        vertical-align: middle;\n",
              "    }\n",
              "\n",
              "    .dataframe tbody tr th {\n",
              "        vertical-align: top;\n",
              "    }\n",
              "\n",
              "    .dataframe thead th {\n",
              "        text-align: right;\n",
              "    }\n",
              "</style>\n",
              "<table border=\"1\" class=\"dataframe\">\n",
              "  <thead>\n",
              "    <tr style=\"text-align: right;\">\n",
              "      <th></th>\n",
              "      <th>Date</th>\n",
              "      <th>Open</th>\n",
              "      <th>High</th>\n",
              "      <th>Low</th>\n",
              "      <th>Close</th>\n",
              "      <th>Adj Close</th>\n",
              "      <th>Volume</th>\n",
              "      <th>logReturn</th>\n",
              "    </tr>\n",
              "  </thead>\n",
              "  <tbody>\n",
              "    <tr>\n",
              "      <th>0</th>\n",
              "      <td>2014-12-31</td>\n",
              "      <td>46.730000</td>\n",
              "      <td>47.439999</td>\n",
              "      <td>46.450001</td>\n",
              "      <td>46.450001</td>\n",
              "      <td>42.848763</td>\n",
              "      <td>21552500</td>\n",
              "      <td>0.006652</td>\n",
              "    </tr>\n",
              "    <tr>\n",
              "      <th>1</th>\n",
              "      <td>2015-01-02</td>\n",
              "      <td>46.660000</td>\n",
              "      <td>47.419998</td>\n",
              "      <td>46.540001</td>\n",
              "      <td>46.759998</td>\n",
              "      <td>43.134731</td>\n",
              "      <td>27913900</td>\n",
              "      <td>-0.009238</td>\n",
              "    </tr>\n",
              "    <tr>\n",
              "      <th>2</th>\n",
              "      <td>2015-01-05</td>\n",
              "      <td>46.369999</td>\n",
              "      <td>46.730000</td>\n",
              "      <td>46.250000</td>\n",
              "      <td>46.330002</td>\n",
              "      <td>42.738068</td>\n",
              "      <td>39673900</td>\n",
              "      <td>-0.014786</td>\n",
              "    </tr>\n",
              "    <tr>\n",
              "      <th>3</th>\n",
              "      <td>2015-01-06</td>\n",
              "      <td>46.380001</td>\n",
              "      <td>46.750000</td>\n",
              "      <td>45.540001</td>\n",
              "      <td>45.650002</td>\n",
              "      <td>42.110783</td>\n",
              "      <td>36447900</td>\n",
              "      <td>0.012625</td>\n",
              "    </tr>\n",
              "    <tr>\n",
              "      <th>4</th>\n",
              "      <td>2015-01-07</td>\n",
              "      <td>45.980000</td>\n",
              "      <td>46.459999</td>\n",
              "      <td>45.490002</td>\n",
              "      <td>46.230000</td>\n",
              "      <td>42.645817</td>\n",
              "      <td>29114100</td>\n",
              "      <td>0.028994</td>\n",
              "    </tr>\n",
              "    <tr>\n",
              "      <th>...</th>\n",
              "      <td>...</td>\n",
              "      <td>...</td>\n",
              "      <td>...</td>\n",
              "      <td>...</td>\n",
              "      <td>...</td>\n",
              "      <td>...</td>\n",
              "      <td>...</td>\n",
              "      <td>...</td>\n",
              "    </tr>\n",
              "    <tr>\n",
              "      <th>775</th>\n",
              "      <td>2018-01-30</td>\n",
              "      <td>93.300003</td>\n",
              "      <td>93.660004</td>\n",
              "      <td>92.099998</td>\n",
              "      <td>92.739998</td>\n",
              "      <td>92.306389</td>\n",
              "      <td>38635100</td>\n",
              "      <td>0.024182</td>\n",
              "    </tr>\n",
              "    <tr>\n",
              "      <th>776</th>\n",
              "      <td>2018-01-31</td>\n",
              "      <td>93.750000</td>\n",
              "      <td>95.400002</td>\n",
              "      <td>93.510002</td>\n",
              "      <td>95.010002</td>\n",
              "      <td>94.565781</td>\n",
              "      <td>48756300</td>\n",
              "      <td>-0.007925</td>\n",
              "    </tr>\n",
              "    <tr>\n",
              "      <th>777</th>\n",
              "      <td>2018-02-01</td>\n",
              "      <td>94.790001</td>\n",
              "      <td>96.070000</td>\n",
              "      <td>93.580002</td>\n",
              "      <td>94.260002</td>\n",
              "      <td>93.819290</td>\n",
              "      <td>47227900</td>\n",
              "      <td>-0.026663</td>\n",
              "    </tr>\n",
              "    <tr>\n",
              "      <th>778</th>\n",
              "      <td>2018-02-02</td>\n",
              "      <td>93.639999</td>\n",
              "      <td>93.970001</td>\n",
              "      <td>91.500000</td>\n",
              "      <td>91.779999</td>\n",
              "      <td>91.350883</td>\n",
              "      <td>47867800</td>\n",
              "      <td>-0.042058</td>\n",
              "    </tr>\n",
              "    <tr>\n",
              "      <th>779</th>\n",
              "      <td>2018-02-05</td>\n",
              "      <td>90.559998</td>\n",
              "      <td>93.239998</td>\n",
              "      <td>88.000000</td>\n",
              "      <td>88.000000</td>\n",
              "      <td>87.588554</td>\n",
              "      <td>51031500</td>\n",
              "      <td>NaN</td>\n",
              "    </tr>\n",
              "  </tbody>\n",
              "</table>\n",
              "<p>780 rows × 8 columns</p>\n",
              "</div>"
            ],
            "text/plain": [
              "           Date       Open       High  ...  Adj Close    Volume  logReturn\n",
              "0    2014-12-31  46.730000  47.439999  ...  42.848763  21552500   0.006652\n",
              "1    2015-01-02  46.660000  47.419998  ...  43.134731  27913900  -0.009238\n",
              "2    2015-01-05  46.369999  46.730000  ...  42.738068  39673900  -0.014786\n",
              "3    2015-01-06  46.380001  46.750000  ...  42.110783  36447900   0.012625\n",
              "4    2015-01-07  45.980000  46.459999  ...  42.645817  29114100   0.028994\n",
              "..          ...        ...        ...  ...        ...       ...        ...\n",
              "775  2018-01-30  93.300003  93.660004  ...  92.306389  38635100   0.024182\n",
              "776  2018-01-31  93.750000  95.400002  ...  94.565781  48756300  -0.007925\n",
              "777  2018-02-01  94.790001  96.070000  ...  93.819290  47227900  -0.026663\n",
              "778  2018-02-02  93.639999  93.970001  ...  91.350883  47867800  -0.042058\n",
              "779  2018-02-05  90.559998  93.239998  ...  87.588554  51031500        NaN\n",
              "\n",
              "[780 rows x 8 columns]"
            ]
          },
          "metadata": {
            "tags": []
          },
          "execution_count": 7
        }
      ]
    },
    {
      "cell_type": "code",
      "metadata": {
        "id": "Q06nPJPXdIwn",
        "colab_type": "code",
        "colab": {
          "base_uri": "https://localhost:8080/",
          "height": 34
        },
        "outputId": "e5ce88ff-d973-4de2-be3a-57d155134582"
      },
      "source": [
        "np.log(46.759998)"
      ],
      "execution_count": 8,
      "outputs": [
        {
          "output_type": "execute_result",
          "data": {
            "text/plain": [
              "3.845028093832267"
            ]
          },
          "metadata": {
            "tags": []
          },
          "execution_count": 8
        }
      ]
    },
    {
      "cell_type": "code",
      "metadata": {
        "id": "yQ4R6GP8dOOk",
        "colab_type": "code",
        "colab": {
          "base_uri": "https://localhost:8080/",
          "height": 34
        },
        "outputId": "6c162b36-b02d-4771-b2f8-87e0f9124c2f"
      },
      "source": [
        "np.log(46.450001)"
      ],
      "execution_count": 9,
      "outputs": [
        {
          "output_type": "execute_result",
          "data": {
            "text/plain": [
              "3.8383764867883725"
            ]
          },
          "metadata": {
            "tags": []
          },
          "execution_count": 9
        }
      ]
    },
    {
      "cell_type": "code",
      "metadata": {
        "id": "Oj_G7uB0dRmr",
        "colab_type": "code",
        "colab": {
          "base_uri": "https://localhost:8080/",
          "height": 34
        },
        "outputId": "0f5a5a0b-f256-46f7-c91c-bf182ecc55a8"
      },
      "source": [
        "3.845028093832267 - 3.8383764867883725"
      ],
      "execution_count": 10,
      "outputs": [
        {
          "output_type": "execute_result",
          "data": {
            "text/plain": [
              "0.0066516070438944475"
            ]
          },
          "metadata": {
            "tags": []
          },
          "execution_count": 10
        }
      ]
    },
    {
      "cell_type": "code",
      "metadata": {
        "id": "hXButyzrda5G",
        "colab_type": "code",
        "colab": {}
      },
      "source": [
        "z_left = norm.ppf(0.1)\n",
        "z_right = norm.ppf(0.9)\n",
        "sample_mean = base_ms['logReturn'].mean()\n",
        "sample_std = base_ms['logReturn'].std(ddof=1) / (base_ms.shape[0]) ** 0.5"
      ],
      "execution_count": 0,
      "outputs": []
    },
    {
      "cell_type": "code",
      "metadata": {
        "id": "ULhF_7q6datt",
        "colab_type": "code",
        "colab": {}
      },
      "source": [
        "interval_left = sample_mean + z_left * sample_std\n",
        "interval_right = sample_mean + z_right * sample_std"
      ],
      "execution_count": 0,
      "outputs": []
    },
    {
      "cell_type": "code",
      "metadata": {
        "id": "p4lX2dpelXn6",
        "colab_type": "code",
        "colab": {
          "base_uri": "https://localhost:8080/",
          "height": 85
        },
        "outputId": "124be4bf-060c-4320-d490-e9e2b303fa77"
      },
      "source": [
        "print(\"Sample Mean is\", sample_mean)\n",
        "print(\"**********************************************\")\n",
        "print(\"80% confidence interval is\")\n",
        "print(interval_left, interval_right)"
      ],
      "execution_count": 16,
      "outputs": [
        {
          "output_type": "stream",
          "text": [
            "Sample Mean is 0.0008202314861230223\n",
            "**********************************************\n",
            "80% confidence interval is\n",
            "0.00016900921195778804 0.0014714537602882566\n"
          ],
          "name": "stdout"
        }
      ]
    }
  ]
}