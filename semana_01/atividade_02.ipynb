{
 "cells": [
  {
   "cell_type": "markdown",
   "metadata": {},
   "source": [
    "# DataFrame"
   ]
  },
  {
   "cell_type": "code",
   "execution_count": 2,
   "metadata": {
    "collapsed": true
   },
   "outputs": [],
   "source": [
    "#import the packages \"Pandas\" and \"MatPlotLib\" into Jupyter Notebook\n",
    "import pandas as pd\n",
    "import matplotlib.pyplot as plt\n",
    "%matplotlib inline"
   ]
  },
  {
   "cell_type": "code",
   "execution_count": 3,
   "metadata": {
    "collapsed": true
   },
   "outputs": [],
   "source": [
    "#import Facebook's stock data\n",
    "fb = pd.DataFrame.from_csv('../data/facebook.csv')"
   ]
  },
  {
   "cell_type": "code",
   "execution_count": 3,
   "metadata": {},
   "outputs": [
    {
     "name": "stdout",
     "output_type": "stream",
     "text": [
      "                 Open       High        Low      Close  Adj Close   Volume\n",
      "Date                                                                      \n",
      "2014-12-31  20.400000  20.510000  19.990000  20.049999  19.459270  4157500\n",
      "2015-01-02  20.129999  20.280001  19.809999  20.129999  19.536913  2842000\n",
      "2015-01-05  20.129999  20.190001  19.700001  19.790001  19.206934  4948800\n",
      "2015-01-06  19.820000  19.840000  19.170000  19.190001  18.624611  4944100\n",
      "2015-01-07  19.330000  19.500000  19.080000  19.139999  18.576082  8045200\n"
     ]
    }
   ],
   "source": [
    "print(fb.head())"
   ]
  },
  {
   "cell_type": "code",
   "execution_count": 5,
   "metadata": {
    "collapsed": true
   },
   "outputs": [],
   "source": [
    "#It is your turn to import Microsoft's stock data - \"microsoft.csv\", which is located in the same folder of facebook.csv\n",
    "#Replace \"None\" with your code\n",
    "ms = pd.DataFrame.from_csv('../data/microsoft.csv')"
   ]
  },
  {
   "cell_type": "code",
   "execution_count": 6,
   "metadata": {},
   "outputs": [
    {
     "data": {
      "text/html": [
       "<div>\n",
       "<table border=\"1\" class=\"dataframe\">\n",
       "  <thead>\n",
       "    <tr style=\"text-align: right;\">\n",
       "      <th></th>\n",
       "      <th>Open</th>\n",
       "      <th>High</th>\n",
       "      <th>Low</th>\n",
       "      <th>Close</th>\n",
       "      <th>Adj Close</th>\n",
       "      <th>Volume</th>\n",
       "    </tr>\n",
       "    <tr>\n",
       "      <th>Date</th>\n",
       "      <th></th>\n",
       "      <th></th>\n",
       "      <th></th>\n",
       "      <th></th>\n",
       "      <th></th>\n",
       "      <th></th>\n",
       "    </tr>\n",
       "  </thead>\n",
       "  <tbody>\n",
       "    <tr>\n",
       "      <th>2014-12-31</th>\n",
       "      <td>46.730000</td>\n",
       "      <td>47.439999</td>\n",
       "      <td>46.450001</td>\n",
       "      <td>46.450001</td>\n",
       "      <td>42.848763</td>\n",
       "      <td>21552500</td>\n",
       "    </tr>\n",
       "    <tr>\n",
       "      <th>2015-01-02</th>\n",
       "      <td>46.660000</td>\n",
       "      <td>47.419998</td>\n",
       "      <td>46.540001</td>\n",
       "      <td>46.759998</td>\n",
       "      <td>43.134731</td>\n",
       "      <td>27913900</td>\n",
       "    </tr>\n",
       "    <tr>\n",
       "      <th>2015-01-05</th>\n",
       "      <td>46.369999</td>\n",
       "      <td>46.730000</td>\n",
       "      <td>46.250000</td>\n",
       "      <td>46.330002</td>\n",
       "      <td>42.738068</td>\n",
       "      <td>39673900</td>\n",
       "    </tr>\n",
       "    <tr>\n",
       "      <th>2015-01-06</th>\n",
       "      <td>46.380001</td>\n",
       "      <td>46.750000</td>\n",
       "      <td>45.540001</td>\n",
       "      <td>45.650002</td>\n",
       "      <td>42.110783</td>\n",
       "      <td>36447900</td>\n",
       "    </tr>\n",
       "    <tr>\n",
       "      <th>2015-01-07</th>\n",
       "      <td>45.980000</td>\n",
       "      <td>46.459999</td>\n",
       "      <td>45.490002</td>\n",
       "      <td>46.230000</td>\n",
       "      <td>42.645817</td>\n",
       "      <td>29114100</td>\n",
       "    </tr>\n",
       "  </tbody>\n",
       "</table>\n",
       "</div>"
      ],
      "text/plain": [
       "                 Open       High        Low      Close  Adj Close    Volume\n",
       "Date                                                                       \n",
       "2014-12-31  46.730000  47.439999  46.450001  46.450001  42.848763  21552500\n",
       "2015-01-02  46.660000  47.419998  46.540001  46.759998  43.134731  27913900\n",
       "2015-01-05  46.369999  46.730000  46.250000  46.330002  42.738068  39673900\n",
       "2015-01-06  46.380001  46.750000  45.540001  45.650002  42.110783  36447900\n",
       "2015-01-07  45.980000  46.459999  45.490002  46.230000  42.645817  29114100"
      ]
     },
     "execution_count": 6,
     "metadata": {},
     "output_type": "execute_result"
    }
   ],
   "source": [
    "# print head of ms, 1 line\n",
    "ms.head()"
   ]
  },
  {
   "cell_type": "markdown",
   "metadata": {},
   "source": [
    "** Expected Output: **"
   ]
  },
  {
   "cell_type": "markdown",
   "metadata": {},
   "source": [
    "<tr>\n",
    "    <th>Date</th>\n",
    "    <th>Open</th>  \n",
    "    <th>High</th>\n",
    "    <th>Low</th>\n",
    "    <th>Close</th>\n",
    "    <th>Adj Close</th>\n",
    "    <th>Volume</th>\n",
    "</tr>\n",
    "<tr>\n",
    "    <td>2014-12-31</td>\n",
    "    <td>46.730000</td>  \n",
    "    <td>47.439999</td>\n",
    "    <td>46.450001</td>\n",
    "    <td>46.450001</td>\n",
    "    <td>42.848763</td>\n",
    "    <td>21552500</td>\n",
    "</tr>\n",
    "<tr>\n",
    "    <td>2015-01-02</td>\n",
    "    <td>46.660000</td>  \n",
    "    <td>47.419998</td>\n",
    "    <td>46.540001</td>\n",
    "    <td>46.759998</td>\n",
    "    <td>43.134731</td>\n",
    "    <td>27913900</td>\n",
    "</tr>\n",
    "<tr>\n",
    "    <td>2015-01-05</td>\n",
    "    <td>46.369999</td>  \n",
    "    <td>46.730000</td>\n",
    "    <td>46.250000</td>\n",
    "    <td>46.330002</td>\n",
    "    <td>42.738068</td>\n",
    "    <td>39673900</td>\n",
    "</tr>\n",
    "<tr>\n",
    "    <td>2015-01-06</td>\n",
    "    <td>46.380001</td>  \n",
    "    <td>46.750000</td>\n",
    "    <td>45.540001</td>\n",
    "    <td>45.650002</td>\n",
    "    <td>42.110783</td>\n",
    "    <td>36447900</td>\n",
    "</tr>\n",
    "<tr>\n",
    "    <td>2015-01-07</td>\n",
    "    <td>45.980000</td>  \n",
    "    <td>46.459999</td>\n",
    "    <td>45.490002</td>\n",
    "    <td>46.230000</td>\n",
    "    <td>42.645817</td>\n",
    "    <td>29114100</td>\n",
    "</tr>\n"
   ]
  },
  {
   "cell_type": "markdown",
   "metadata": {},
   "source": [
    "## Show the size of a DataFrame using \"Shape\""
   ]
  },
  {
   "cell_type": "code",
   "execution_count": 6,
   "metadata": {},
   "outputs": [
    {
     "name": "stdout",
     "output_type": "stream",
     "text": [
      "(780, 6)\n"
     ]
    }
   ],
   "source": [
    "print(fb.shape)"
   ]
  },
  {
   "cell_type": "code",
   "execution_count": 12,
   "metadata": {},
   "outputs": [
    {
     "name": "stdout",
     "output_type": "stream",
     "text": [
      "(780, 6)\n"
     ]
    }
   ],
   "source": [
    "# print the shape of ms, 1 line\n",
    "print(ms.shape)"
   ]
  },
  {
   "cell_type": "markdown",
   "metadata": {},
   "source": [
    "## Show summary statistics of a DataFrame"
   ]
  },
  {
   "cell_type": "code",
   "execution_count": 8,
   "metadata": {},
   "outputs": [
    {
     "name": "stdout",
     "output_type": "stream",
     "text": [
      "             Open        High         Low       Close   Adj Close  \\\n",
      "count  780.000000  780.000000  780.000000  780.000000  780.000000   \n",
      "mean    80.212705   81.285654   79.022397   80.264897   79.914215   \n",
      "std     64.226121   65.048907   63.190963   64.198375   64.327846   \n",
      "min     19.250000   19.500000   18.940001   19.139999   18.576082   \n",
      "25%     25.525000   26.085000   24.845000   25.475000   25.134513   \n",
      "50%     53.379999   54.034999   52.930000   53.420000   53.035403   \n",
      "75%    113.322502  115.779999  110.297499  113.702501  113.261238   \n",
      "max    245.770004  249.270004  244.449997  246.850006  246.850006   \n",
      "\n",
      "             Volume  \n",
      "count  7.800000e+02  \n",
      "mean   1.204453e+07  \n",
      "std    8.221848e+06  \n",
      "min    1.311200e+06  \n",
      "25%    7.215200e+06  \n",
      "50%    9.728700e+06  \n",
      "75%    1.408885e+07  \n",
      "max    9.232320e+07  \n"
     ]
    }
   ],
   "source": [
    "# print summary statistics of Facebook\n",
    "print(fb.describe())"
   ]
  },
  {
   "cell_type": "code",
   "execution_count": 13,
   "metadata": {},
   "outputs": [
    {
     "data": {
      "text/html": [
       "<div>\n",
       "<table border=\"1\" class=\"dataframe\">\n",
       "  <thead>\n",
       "    <tr style=\"text-align: right;\">\n",
       "      <th></th>\n",
       "      <th>Open</th>\n",
       "      <th>High</th>\n",
       "      <th>Low</th>\n",
       "      <th>Close</th>\n",
       "      <th>Adj Close</th>\n",
       "      <th>Volume</th>\n",
       "    </tr>\n",
       "  </thead>\n",
       "  <tbody>\n",
       "    <tr>\n",
       "      <th>count</th>\n",
       "      <td>780.000000</td>\n",
       "      <td>780.000000</td>\n",
       "      <td>780.000000</td>\n",
       "      <td>780.000000</td>\n",
       "      <td>780.000000</td>\n",
       "      <td>7.800000e+02</td>\n",
       "    </tr>\n",
       "    <tr>\n",
       "      <th>mean</th>\n",
       "      <td>58.912308</td>\n",
       "      <td>59.372308</td>\n",
       "      <td>58.465000</td>\n",
       "      <td>58.945397</td>\n",
       "      <td>56.931553</td>\n",
       "      <td>2.978900e+07</td>\n",
       "    </tr>\n",
       "    <tr>\n",
       "      <th>std</th>\n",
       "      <td>12.852040</td>\n",
       "      <td>12.868060</td>\n",
       "      <td>12.802831</td>\n",
       "      <td>12.830350</td>\n",
       "      <td>13.670080</td>\n",
       "      <td>1.522319e+07</td>\n",
       "    </tr>\n",
       "    <tr>\n",
       "      <th>min</th>\n",
       "      <td>40.340000</td>\n",
       "      <td>40.740002</td>\n",
       "      <td>39.720001</td>\n",
       "      <td>40.290001</td>\n",
       "      <td>37.267815</td>\n",
       "      <td>7.425600e+06</td>\n",
       "    </tr>\n",
       "    <tr>\n",
       "      <th>25%</th>\n",
       "      <td>47.894998</td>\n",
       "      <td>48.295000</td>\n",
       "      <td>47.535001</td>\n",
       "      <td>47.974998</td>\n",
       "      <td>44.792073</td>\n",
       "      <td>2.096685e+07</td>\n",
       "    </tr>\n",
       "    <tr>\n",
       "      <th>50%</th>\n",
       "      <td>56.150002</td>\n",
       "      <td>56.640001</td>\n",
       "      <td>55.700001</td>\n",
       "      <td>56.209999</td>\n",
       "      <td>53.775458</td>\n",
       "      <td>2.623125e+07</td>\n",
       "    </tr>\n",
       "    <tr>\n",
       "      <th>75%</th>\n",
       "      <td>67.892500</td>\n",
       "      <td>68.174997</td>\n",
       "      <td>67.447500</td>\n",
       "      <td>67.740000</td>\n",
       "      <td>66.565508</td>\n",
       "      <td>3.408020e+07</td>\n",
       "    </tr>\n",
       "    <tr>\n",
       "      <th>max</th>\n",
       "      <td>95.139999</td>\n",
       "      <td>96.070000</td>\n",
       "      <td>93.720001</td>\n",
       "      <td>95.010002</td>\n",
       "      <td>94.565781</td>\n",
       "      <td>1.691640e+08</td>\n",
       "    </tr>\n",
       "  </tbody>\n",
       "</table>\n",
       "</div>"
      ],
      "text/plain": [
       "             Open        High         Low       Close   Adj Close  \\\n",
       "count  780.000000  780.000000  780.000000  780.000000  780.000000   \n",
       "mean    58.912308   59.372308   58.465000   58.945397   56.931553   \n",
       "std     12.852040   12.868060   12.802831   12.830350   13.670080   \n",
       "min     40.340000   40.740002   39.720001   40.290001   37.267815   \n",
       "25%     47.894998   48.295000   47.535001   47.974998   44.792073   \n",
       "50%     56.150002   56.640001   55.700001   56.209999   53.775458   \n",
       "75%     67.892500   68.174997   67.447500   67.740000   66.565508   \n",
       "max     95.139999   96.070000   93.720001   95.010002   94.565781   \n",
       "\n",
       "             Volume  \n",
       "count  7.800000e+02  \n",
       "mean   2.978900e+07  \n",
       "std    1.522319e+07  \n",
       "min    7.425600e+06  \n",
       "25%    2.096685e+07  \n",
       "50%    2.623125e+07  \n",
       "75%    3.408020e+07  \n",
       "max    1.691640e+08  "
      ]
     },
     "execution_count": 13,
     "metadata": {},
     "output_type": "execute_result"
    }
   ],
   "source": [
    "# print summary statistics of Microsoft\n",
    "ms.describe()"
   ]
  },
  {
   "cell_type": "markdown",
   "metadata": {},
   "source": [
    "## Locate a particular row of data using \"Selection by label\""
   ]
  },
  {
   "cell_type": "code",
   "execution_count": 10,
   "metadata": {
    "collapsed": true
   },
   "outputs": [],
   "source": [
    "# select all the price information of Facebook in 2016.\n",
    "fb_2015 = fb.loc['2015-01-01':'2015-12-31']"
   ]
  },
  {
   "cell_type": "code",
   "execution_count": 11,
   "metadata": {},
   "outputs": [
    {
     "name": "stdout",
     "output_type": "stream",
     "text": [
      "Open         2.288000e+01\n",
      "High         2.311000e+01\n",
      "Low          2.273000e+01\n",
      "Close        2.297000e+01\n",
      "Adj Close    2.237908e+01\n",
      "Volume       5.923900e+06\n",
      "Name: 2015-03-16 00:00:00, dtype: float64\n"
     ]
    }
   ],
   "source": [
    "# print the price of Facebook on '2015-03-16'\n",
    "print(fb_2015.loc['2015-03-16'])"
   ]
  },
  {
   "cell_type": "code",
   "execution_count": 15,
   "metadata": {
    "collapsed": true
   },
   "outputs": [],
   "source": [
    "# select all the price information of Microsoft in 2016.\n",
    "ms_2016 = ms.loc['2016-01-01': '2016-12-31']"
   ]
  },
  {
   "cell_type": "code",
   "execution_count": 23,
   "metadata": {},
   "outputs": [
    {
     "name": "stdout",
     "output_type": "stream",
     "text": [
      "Open         5.345000e+01\n",
      "High         5.460000e+01\n",
      "Low          5.340000e+01\n",
      "Close        5.435000e+01\n",
      "Adj Close    5.187095e+01\n",
      "Volume       3.169170e+07\n",
      "Name: 2016-03-16 00:00:00, dtype: float64\n"
     ]
    }
   ],
   "source": [
    "# print the price of Microsoft on '2016-03-16'\n",
    "print(ms.loc['2016-03-16'])"
   ]
  },
  {
   "cell_type": "markdown",
   "metadata": {},
   "source": [
    "** Expected Output: **"
   ]
  },
  {
   "cell_type": "markdown",
   "metadata": {},
   "source": [
    "<tr>\n",
    "    <td>Open</td>\n",
    "    <td>5.345000e+01</td>\n",
    "</tr>\n",
    "<tr>\n",
    "    <td>High</td>\n",
    "    <td>5.460000e+01</td>\n",
    "</tr>\n",
    "<tr>\n",
    "    <td>Low</td>\n",
    "    <td>5.340000e+01</td>\n",
    "</tr>\n",
    "<tr>\n",
    "    <td>Close</td>\n",
    "    <td>5.435000e+01</td>\n",
    "</tr>\n",
    "<tr>\n",
    "    <td>Adj Close</td>\n",
    "    <td>5.187095e+01</td>\n",
    "</tr>\n",
    "<tr>\n",
    "    <td>Volume</td>\n",
    "    <td>3.169170e+07</td>\n",
    "</tr>"
   ]
  },
  {
   "cell_type": "markdown",
   "metadata": {},
   "source": [
    "## Locate a particular row of data using \"Selection by position\""
   ]
  },
  {
   "cell_type": "code",
   "execution_count": 14,
   "metadata": {},
   "outputs": [
    {
     "name": "stdout",
     "output_type": "stream",
     "text": [
      "20.4\n"
     ]
    }
   ],
   "source": [
    "# print the opening price of the first row\n",
    "print(fb.iloc[0, 0])"
   ]
  },
  {
   "cell_type": "code",
   "execution_count": 28,
   "metadata": {},
   "outputs": [
    {
     "name": "stdout",
     "output_type": "stream",
     "text": [
      "90.559998\n"
     ]
    }
   ],
   "source": [
    "# print the opening price of the last row\n",
    "print(ms.iloc[-1, 0])"
   ]
  },
  {
   "cell_type": "markdown",
   "metadata": {},
   "source": [
    "** Expected Output: ** 90.559998"
   ]
  },
  {
   "cell_type": "markdown",
   "metadata": {},
   "source": [
    "## Plot the stock data using plot() method"
   ]
  },
  {
   "cell_type": "code",
   "execution_count": 16,
   "metadata": {},
   "outputs": [
    {
     "data": {
      "image/png": "[encoded data removed]",
      "text/plain": [
       "<matplotlib.figure.Figure at 0x7f31bfcc19e8>"
      ]
     },
     "metadata": {},
     "output_type": "display_data"
    }
   ],
   "source": [
    "plt.figure(figsize=(10, 8))\n",
    "fb['Close'].plot()\n",
    "plt.show()"
   ]
  },
  {
   "cell_type": "code",
   "execution_count": 8,
   "metadata": {},
   "outputs": [
    {
     "data": {
      "text/plain": [
       "<matplotlib.axes._subplots.AxesSubplot at 0x7f9c4d7d55f8>"
      ]
     },
     "execution_count": 8,
     "metadata": {},
     "output_type": "execute_result"
    },
    {
     "data": {
      "image/png": "[encoded data removed]",
      "text/plain": [
       "<matplotlib.figure.Figure at 0x7f9c4d7f1780>"
      ]
     },
     "metadata": {},
     "output_type": "display_data"
    }
   ],
   "source": [
    "plt.figure(figsize=(10, 8))\n",
    "# plot only the Close price of 2016 of Microsoft, 1 line \n",
    "ms.loc['2016-01-01':'2016-12-01', 'Close'].plot()"
   ]
  },
  {
   "cell_type": "markdown",
   "metadata": {},
   "source": [
    "** Expected Ouput: **"
   ]
  },
  {
   "cell_type": "markdown",
   "metadata": {},
   "source": [
    "<img src=\"MS2016.png\">"
   ]
  },
  {
   "cell_type": "code",
   "execution_count": 11,
   "metadata": {},
   "outputs": [
    {
     "data": {
      "text/html": [
       "<div>\n",
       "<table border=\"1\" class=\"dataframe\">\n",
       "  <thead>\n",
       "    <tr style=\"text-align: right;\">\n",
       "      <th></th>\n",
       "      <th>Open</th>\n",
       "      <th>Close</th>\n",
       "    </tr>\n",
       "    <tr>\n",
       "      <th>Date</th>\n",
       "      <th></th>\n",
       "      <th></th>\n",
       "    </tr>\n",
       "  </thead>\n",
       "  <tbody>\n",
       "    <tr>\n",
       "      <th>2014-12-31</th>\n",
       "      <td>20.400000</td>\n",
       "      <td>20.049999</td>\n",
       "    </tr>\n",
       "    <tr>\n",
       "      <th>2015-01-02</th>\n",
       "      <td>20.129999</td>\n",
       "      <td>20.129999</td>\n",
       "    </tr>\n",
       "    <tr>\n",
       "      <th>2015-01-05</th>\n",
       "      <td>20.129999</td>\n",
       "      <td>19.790001</td>\n",
       "    </tr>\n",
       "    <tr>\n",
       "      <th>2015-01-06</th>\n",
       "      <td>19.820000</td>\n",
       "      <td>19.190001</td>\n",
       "    </tr>\n",
       "    <tr>\n",
       "      <th>2015-01-07</th>\n",
       "      <td>19.330000</td>\n",
       "      <td>19.139999</td>\n",
       "    </tr>\n",
       "  </tbody>\n",
       "</table>\n",
       "</div>"
      ],
      "text/plain": [
       "                 Open      Close\n",
       "Date                            \n",
       "2014-12-31  20.400000  20.049999\n",
       "2015-01-02  20.129999  20.129999\n",
       "2015-01-05  20.129999  19.790001\n",
       "2015-01-06  19.820000  19.190001\n",
       "2015-01-07  19.330000  19.139999"
      ]
     },
     "execution_count": 11,
     "metadata": {},
     "output_type": "execute_result"
    }
   ],
   "source": [
    "fb_duas_colunas = fb[['Open', 'Close']]\n",
    "fb_duas_colunas.head()"
   ]
  },
  {
   "cell_type": "code",
   "execution_count": 13,
   "metadata": {},
   "outputs": [
    {
     "data": {
      "text/html": [
       "<div>\n",
       "<table border=\"1\" class=\"dataframe\">\n",
       "  <thead>\n",
       "    <tr style=\"text-align: right;\">\n",
       "      <th></th>\n",
       "      <th>Open</th>\n",
       "      <th>High</th>\n",
       "      <th>Low</th>\n",
       "      <th>Close</th>\n",
       "      <th>Adj Close</th>\n",
       "      <th>Volume</th>\n",
       "    </tr>\n",
       "    <tr>\n",
       "      <th>Date</th>\n",
       "      <th></th>\n",
       "      <th></th>\n",
       "      <th></th>\n",
       "      <th></th>\n",
       "      <th></th>\n",
       "      <th></th>\n",
       "    </tr>\n",
       "  </thead>\n",
       "  <tbody>\n",
       "    <tr>\n",
       "      <th>2014-12-31</th>\n",
       "      <td>20.400000</td>\n",
       "      <td>20.510000</td>\n",
       "      <td>19.990000</td>\n",
       "      <td>20.049999</td>\n",
       "      <td>19.459270</td>\n",
       "      <td>4157500</td>\n",
       "    </tr>\n",
       "    <tr>\n",
       "      <th>2015-01-02</th>\n",
       "      <td>20.129999</td>\n",
       "      <td>20.280001</td>\n",
       "      <td>19.809999</td>\n",
       "      <td>20.129999</td>\n",
       "      <td>19.536913</td>\n",
       "      <td>2842000</td>\n",
       "    </tr>\n",
       "    <tr>\n",
       "      <th>2015-01-05</th>\n",
       "      <td>20.129999</td>\n",
       "      <td>20.190001</td>\n",
       "      <td>19.700001</td>\n",
       "      <td>19.790001</td>\n",
       "      <td>19.206934</td>\n",
       "      <td>4948800</td>\n",
       "    </tr>\n",
       "    <tr>\n",
       "      <th>2015-01-06</th>\n",
       "      <td>19.820000</td>\n",
       "      <td>19.840000</td>\n",
       "      <td>19.170000</td>\n",
       "      <td>19.190001</td>\n",
       "      <td>18.624611</td>\n",
       "      <td>4944100</td>\n",
       "    </tr>\n",
       "    <tr>\n",
       "      <th>2015-01-07</th>\n",
       "      <td>19.330000</td>\n",
       "      <td>19.500000</td>\n",
       "      <td>19.080000</td>\n",
       "      <td>19.139999</td>\n",
       "      <td>18.576082</td>\n",
       "      <td>8045200</td>\n",
       "    </tr>\n",
       "  </tbody>\n",
       "</table>\n",
       "</div>"
      ],
      "text/plain": [
       "                 Open       High        Low      Close  Adj Close   Volume\n",
       "Date                                                                      \n",
       "2014-12-31  20.400000  20.510000  19.990000  20.049999  19.459270  4157500\n",
       "2015-01-02  20.129999  20.280001  19.809999  20.129999  19.536913  2842000\n",
       "2015-01-05  20.129999  20.190001  19.700001  19.790001  19.206934  4948800\n",
       "2015-01-06  19.820000  19.840000  19.170000  19.190001  18.624611  4944100\n",
       "2015-01-07  19.330000  19.500000  19.080000  19.139999  18.576082  8045200"
      ]
     },
     "execution_count": 13,
     "metadata": {},
     "output_type": "execute_result"
    }
   ],
   "source": [
    "fb.head() "
   ]
  },
  {
   "cell_type": "code",
   "execution_count": 15,
   "metadata": {
    "collapsed": true
   },
   "outputs": [],
   "source": [
    "fb['Price1'] = fb['Close'].shift(-1)"
   ]
  },
  {
   "cell_type": "code",
   "execution_count": 17,
   "metadata": {},
   "outputs": [
    {
     "data": {
      "text/html": [
       "<div>\n",
       "<table border=\"1\" class=\"dataframe\">\n",
       "  <thead>\n",
       "    <tr style=\"text-align: right;\">\n",
       "      <th></th>\n",
       "      <th>Open</th>\n",
       "      <th>High</th>\n",
       "      <th>Low</th>\n",
       "      <th>Close</th>\n",
       "      <th>Adj Close</th>\n",
       "      <th>Volume</th>\n",
       "      <th>Price1</th>\n",
       "    </tr>\n",
       "    <tr>\n",
       "      <th>Date</th>\n",
       "      <th></th>\n",
       "      <th></th>\n",
       "      <th></th>\n",
       "      <th></th>\n",
       "      <th></th>\n",
       "      <th></th>\n",
       "      <th></th>\n",
       "    </tr>\n",
       "  </thead>\n",
       "  <tbody>\n",
       "    <tr>\n",
       "      <th>2014-12-31</th>\n",
       "      <td>20.400000</td>\n",
       "      <td>20.510000</td>\n",
       "      <td>19.990000</td>\n",
       "      <td>20.049999</td>\n",
       "      <td>19.459270</td>\n",
       "      <td>4157500</td>\n",
       "      <td>20.129999</td>\n",
       "    </tr>\n",
       "    <tr>\n",
       "      <th>2015-01-02</th>\n",
       "      <td>20.129999</td>\n",
       "      <td>20.280001</td>\n",
       "      <td>19.809999</td>\n",
       "      <td>20.129999</td>\n",
       "      <td>19.536913</td>\n",
       "      <td>2842000</td>\n",
       "      <td>19.790001</td>\n",
       "    </tr>\n",
       "    <tr>\n",
       "      <th>2015-01-05</th>\n",
       "      <td>20.129999</td>\n",
       "      <td>20.190001</td>\n",
       "      <td>19.700001</td>\n",
       "      <td>19.790001</td>\n",
       "      <td>19.206934</td>\n",
       "      <td>4948800</td>\n",
       "      <td>19.190001</td>\n",
       "    </tr>\n",
       "    <tr>\n",
       "      <th>2015-01-06</th>\n",
       "      <td>19.820000</td>\n",
       "      <td>19.840000</td>\n",
       "      <td>19.170000</td>\n",
       "      <td>19.190001</td>\n",
       "      <td>18.624611</td>\n",
       "      <td>4944100</td>\n",
       "      <td>19.139999</td>\n",
       "    </tr>\n",
       "    <tr>\n",
       "      <th>2015-01-07</th>\n",
       "      <td>19.330000</td>\n",
       "      <td>19.500000</td>\n",
       "      <td>19.080000</td>\n",
       "      <td>19.139999</td>\n",
       "      <td>18.576082</td>\n",
       "      <td>8045200</td>\n",
       "      <td>19.860001</td>\n",
       "    </tr>\n",
       "  </tbody>\n",
       "</table>\n",
       "</div>"
      ],
      "text/plain": [
       "                 Open       High        Low      Close  Adj Close   Volume  \\\n",
       "Date                                                                         \n",
       "2014-12-31  20.400000  20.510000  19.990000  20.049999  19.459270  4157500   \n",
       "2015-01-02  20.129999  20.280001  19.809999  20.129999  19.536913  2842000   \n",
       "2015-01-05  20.129999  20.190001  19.700001  19.790001  19.206934  4948800   \n",
       "2015-01-06  19.820000  19.840000  19.170000  19.190001  18.624611  4944100   \n",
       "2015-01-07  19.330000  19.500000  19.080000  19.139999  18.576082  8045200   \n",
       "\n",
       "               Price1  \n",
       "Date                   \n",
       "2014-12-31  20.129999  \n",
       "2015-01-02  19.790001  \n",
       "2015-01-05  19.190001  \n",
       "2015-01-06  19.139999  \n",
       "2015-01-07  19.860001  "
      ]
     },
     "execution_count": 17,
     "metadata": {},
     "output_type": "execute_result"
    }
   ],
   "source": [
    "fb.head()"
   ]
  },
  {
   "cell_type": "code",
   "execution_count": 19,
   "metadata": {
    "collapsed": true
   },
   "outputs": [],
   "source": [
    "fb['priceDiff'] = fb['Price1'] - fb['Close']"
   ]
  },
  {
   "cell_type": "code",
   "execution_count": 21,
   "metadata": {},
   "outputs": [
    {
     "data": {
      "text/html": [
       "<div>\n",
       "<table border=\"1\" class=\"dataframe\">\n",
       "  <thead>\n",
       "    <tr style=\"text-align: right;\">\n",
       "      <th></th>\n",
       "      <th>Open</th>\n",
       "      <th>High</th>\n",
       "      <th>Low</th>\n",
       "      <th>Close</th>\n",
       "      <th>Adj Close</th>\n",
       "      <th>Volume</th>\n",
       "      <th>Price1</th>\n",
       "      <th>priceDiff</th>\n",
       "    </tr>\n",
       "    <tr>\n",
       "      <th>Date</th>\n",
       "      <th></th>\n",
       "      <th></th>\n",
       "      <th></th>\n",
       "      <th></th>\n",
       "      <th></th>\n",
       "      <th></th>\n",
       "      <th></th>\n",
       "      <th></th>\n",
       "    </tr>\n",
       "  </thead>\n",
       "  <tbody>\n",
       "    <tr>\n",
       "      <th>2014-12-31</th>\n",
       "      <td>20.400000</td>\n",
       "      <td>20.510000</td>\n",
       "      <td>19.990000</td>\n",
       "      <td>20.049999</td>\n",
       "      <td>19.459270</td>\n",
       "      <td>4157500</td>\n",
       "      <td>20.129999</td>\n",
       "      <td>0.080000</td>\n",
       "    </tr>\n",
       "    <tr>\n",
       "      <th>2015-01-02</th>\n",
       "      <td>20.129999</td>\n",
       "      <td>20.280001</td>\n",
       "      <td>19.809999</td>\n",
       "      <td>20.129999</td>\n",
       "      <td>19.536913</td>\n",
       "      <td>2842000</td>\n",
       "      <td>19.790001</td>\n",
       "      <td>-0.339998</td>\n",
       "    </tr>\n",
       "    <tr>\n",
       "      <th>2015-01-05</th>\n",
       "      <td>20.129999</td>\n",
       "      <td>20.190001</td>\n",
       "      <td>19.700001</td>\n",
       "      <td>19.790001</td>\n",
       "      <td>19.206934</td>\n",
       "      <td>4948800</td>\n",
       "      <td>19.190001</td>\n",
       "      <td>-0.600000</td>\n",
       "    </tr>\n",
       "    <tr>\n",
       "      <th>2015-01-06</th>\n",
       "      <td>19.820000</td>\n",
       "      <td>19.840000</td>\n",
       "      <td>19.170000</td>\n",
       "      <td>19.190001</td>\n",
       "      <td>18.624611</td>\n",
       "      <td>4944100</td>\n",
       "      <td>19.139999</td>\n",
       "      <td>-0.050002</td>\n",
       "    </tr>\n",
       "    <tr>\n",
       "      <th>2015-01-07</th>\n",
       "      <td>19.330000</td>\n",
       "      <td>19.500000</td>\n",
       "      <td>19.080000</td>\n",
       "      <td>19.139999</td>\n",
       "      <td>18.576082</td>\n",
       "      <td>8045200</td>\n",
       "      <td>19.860001</td>\n",
       "      <td>0.720002</td>\n",
       "    </tr>\n",
       "  </tbody>\n",
       "</table>\n",
       "</div>"
      ],
      "text/plain": [
       "                 Open       High        Low      Close  Adj Close   Volume  \\\n",
       "Date                                                                         \n",
       "2014-12-31  20.400000  20.510000  19.990000  20.049999  19.459270  4157500   \n",
       "2015-01-02  20.129999  20.280001  19.809999  20.129999  19.536913  2842000   \n",
       "2015-01-05  20.129999  20.190001  19.700001  19.790001  19.206934  4948800   \n",
       "2015-01-06  19.820000  19.840000  19.170000  19.190001  18.624611  4944100   \n",
       "2015-01-07  19.330000  19.500000  19.080000  19.139999  18.576082  8045200   \n",
       "\n",
       "               Price1  priceDiff  \n",
       "Date                              \n",
       "2014-12-31  20.129999   0.080000  \n",
       "2015-01-02  19.790001  -0.339998  \n",
       "2015-01-05  19.190001  -0.600000  \n",
       "2015-01-06  19.139999  -0.050002  \n",
       "2015-01-07  19.860001   0.720002  "
      ]
     },
     "execution_count": 21,
     "metadata": {},
     "output_type": "execute_result"
    }
   ],
   "source": [
    "fb.head()"
   ]
  },
  {
   "cell_type": "code",
   "execution_count": 24,
   "metadata": {},
   "outputs": [
    {
     "data": {
      "text/html": [
       "<div>\n",
       "<table border=\"1\" class=\"dataframe\">\n",
       "  <thead>\n",
       "    <tr style=\"text-align: right;\">\n",
       "      <th></th>\n",
       "      <th>Open</th>\n",
       "      <th>High</th>\n",
       "      <th>Low</th>\n",
       "      <th>Close</th>\n",
       "      <th>Adj Close</th>\n",
       "      <th>Volume</th>\n",
       "      <th>Price1</th>\n",
       "      <th>priceDiff</th>\n",
       "      <th>Return</th>\n",
       "    </tr>\n",
       "    <tr>\n",
       "      <th>Date</th>\n",
       "      <th></th>\n",
       "      <th></th>\n",
       "      <th></th>\n",
       "      <th></th>\n",
       "      <th></th>\n",
       "      <th></th>\n",
       "      <th></th>\n",
       "      <th></th>\n",
       "      <th></th>\n",
       "    </tr>\n",
       "  </thead>\n",
       "  <tbody>\n",
       "    <tr>\n",
       "      <th>2014-12-31</th>\n",
       "      <td>20.400000</td>\n",
       "      <td>20.510000</td>\n",
       "      <td>19.990000</td>\n",
       "      <td>20.049999</td>\n",
       "      <td>19.459270</td>\n",
       "      <td>4157500</td>\n",
       "      <td>20.129999</td>\n",
       "      <td>0.080000</td>\n",
       "      <td>0.003990</td>\n",
       "    </tr>\n",
       "    <tr>\n",
       "      <th>2015-01-02</th>\n",
       "      <td>20.129999</td>\n",
       "      <td>20.280001</td>\n",
       "      <td>19.809999</td>\n",
       "      <td>20.129999</td>\n",
       "      <td>19.536913</td>\n",
       "      <td>2842000</td>\n",
       "      <td>19.790001</td>\n",
       "      <td>-0.339998</td>\n",
       "      <td>-0.016890</td>\n",
       "    </tr>\n",
       "    <tr>\n",
       "      <th>2015-01-05</th>\n",
       "      <td>20.129999</td>\n",
       "      <td>20.190001</td>\n",
       "      <td>19.700001</td>\n",
       "      <td>19.790001</td>\n",
       "      <td>19.206934</td>\n",
       "      <td>4948800</td>\n",
       "      <td>19.190001</td>\n",
       "      <td>-0.600000</td>\n",
       "      <td>-0.030318</td>\n",
       "    </tr>\n",
       "    <tr>\n",
       "      <th>2015-01-06</th>\n",
       "      <td>19.820000</td>\n",
       "      <td>19.840000</td>\n",
       "      <td>19.170000</td>\n",
       "      <td>19.190001</td>\n",
       "      <td>18.624611</td>\n",
       "      <td>4944100</td>\n",
       "      <td>19.139999</td>\n",
       "      <td>-0.050002</td>\n",
       "      <td>-0.002606</td>\n",
       "    </tr>\n",
       "    <tr>\n",
       "      <th>2015-01-07</th>\n",
       "      <td>19.330000</td>\n",
       "      <td>19.500000</td>\n",
       "      <td>19.080000</td>\n",
       "      <td>19.139999</td>\n",
       "      <td>18.576082</td>\n",
       "      <td>8045200</td>\n",
       "      <td>19.860001</td>\n",
       "      <td>0.720002</td>\n",
       "      <td>0.037618</td>\n",
       "    </tr>\n",
       "  </tbody>\n",
       "</table>\n",
       "</div>"
      ],
      "text/plain": [
       "                 Open       High        Low      Close  Adj Close   Volume  \\\n",
       "Date                                                                         \n",
       "2014-12-31  20.400000  20.510000  19.990000  20.049999  19.459270  4157500   \n",
       "2015-01-02  20.129999  20.280001  19.809999  20.129999  19.536913  2842000   \n",
       "2015-01-05  20.129999  20.190001  19.700001  19.790001  19.206934  4948800   \n",
       "2015-01-06  19.820000  19.840000  19.170000  19.190001  18.624611  4944100   \n",
       "2015-01-07  19.330000  19.500000  19.080000  19.139999  18.576082  8045200   \n",
       "\n",
       "               Price1  priceDiff    Return  \n",
       "Date                                        \n",
       "2014-12-31  20.129999   0.080000  0.003990  \n",
       "2015-01-02  19.790001  -0.339998 -0.016890  \n",
       "2015-01-05  19.190001  -0.600000 -0.030318  \n",
       "2015-01-06  19.139999  -0.050002 -0.002606  \n",
       "2015-01-07  19.860001   0.720002  0.037618  "
      ]
     },
     "execution_count": 24,
     "metadata": {},
     "output_type": "execute_result"
    }
   ],
   "source": [
    "fb['Return'] = fb['priceDiff'] / fb['Close']\n",
    "fb.head()"
   ]
  },
  {
   "cell_type": "code",
   "execution_count": 28,
   "metadata": {
    "collapsed": true
   },
   "outputs": [],
   "source": [
    "fb['Direction'] = [1 if fb.loc[ei, 'priceDiff'] > 0 else -1 \n",
    "                  for ei in fb.index]"
   ]
  },
  {
   "cell_type": "code",
   "execution_count": 27,
   "metadata": {},
   "outputs": [
    {
     "data": {
      "text/plain": [
       "DatetimeIndex(['2014-12-31', '2015-01-02', '2015-01-05', '2015-01-06',\n",
       "               '2015-01-07', '2015-01-08', '2015-01-09', '2015-01-12',\n",
       "               '2015-01-13', '2015-01-14',\n",
       "               ...\n",
       "               '2018-01-23', '2018-01-24', '2018-01-25', '2018-01-26',\n",
       "               '2018-01-29', '2018-01-30', '2018-01-31', '2018-02-01',\n",
       "               '2018-02-02', '2018-02-05'],\n",
       "              dtype='datetime64[ns]', name='Date', length=780, freq=None)"
      ]
     },
     "execution_count": 27,
     "metadata": {},
     "output_type": "execute_result"
    }
   ],
   "source": [
    "fb.index"
   ]
  },
  {
   "cell_type": "code",
   "execution_count": 29,
   "metadata": {},
   "outputs": [
    {
     "data": {
      "text/html": [
       "<div>\n",
       "<table border=\"1\" class=\"dataframe\">\n",
       "  <thead>\n",
       "    <tr style=\"text-align: right;\">\n",
       "      <th></th>\n",
       "      <th>Open</th>\n",
       "      <th>High</th>\n",
       "      <th>Low</th>\n",
       "      <th>Close</th>\n",
       "      <th>Adj Close</th>\n",
       "      <th>Volume</th>\n",
       "      <th>Price1</th>\n",
       "      <th>priceDiff</th>\n",
       "      <th>Return</th>\n",
       "      <th>Direction</th>\n",
       "    </tr>\n",
       "    <tr>\n",
       "      <th>Date</th>\n",
       "      <th></th>\n",
       "      <th></th>\n",
       "      <th></th>\n",
       "      <th></th>\n",
       "      <th></th>\n",
       "      <th></th>\n",
       "      <th></th>\n",
       "      <th></th>\n",
       "      <th></th>\n",
       "      <th></th>\n",
       "    </tr>\n",
       "  </thead>\n",
       "  <tbody>\n",
       "    <tr>\n",
       "      <th>2014-12-31</th>\n",
       "      <td>20.400000</td>\n",
       "      <td>20.510000</td>\n",
       "      <td>19.990000</td>\n",
       "      <td>20.049999</td>\n",
       "      <td>19.459270</td>\n",
       "      <td>4157500</td>\n",
       "      <td>20.129999</td>\n",
       "      <td>0.080000</td>\n",
       "      <td>0.003990</td>\n",
       "      <td>1</td>\n",
       "    </tr>\n",
       "    <tr>\n",
       "      <th>2015-01-02</th>\n",
       "      <td>20.129999</td>\n",
       "      <td>20.280001</td>\n",
       "      <td>19.809999</td>\n",
       "      <td>20.129999</td>\n",
       "      <td>19.536913</td>\n",
       "      <td>2842000</td>\n",
       "      <td>19.790001</td>\n",
       "      <td>-0.339998</td>\n",
       "      <td>-0.016890</td>\n",
       "      <td>-1</td>\n",
       "    </tr>\n",
       "    <tr>\n",
       "      <th>2015-01-05</th>\n",
       "      <td>20.129999</td>\n",
       "      <td>20.190001</td>\n",
       "      <td>19.700001</td>\n",
       "      <td>19.790001</td>\n",
       "      <td>19.206934</td>\n",
       "      <td>4948800</td>\n",
       "      <td>19.190001</td>\n",
       "      <td>-0.600000</td>\n",
       "      <td>-0.030318</td>\n",
       "      <td>-1</td>\n",
       "    </tr>\n",
       "    <tr>\n",
       "      <th>2015-01-06</th>\n",
       "      <td>19.820000</td>\n",
       "      <td>19.840000</td>\n",
       "      <td>19.170000</td>\n",
       "      <td>19.190001</td>\n",
       "      <td>18.624611</td>\n",
       "      <td>4944100</td>\n",
       "      <td>19.139999</td>\n",
       "      <td>-0.050002</td>\n",
       "      <td>-0.002606</td>\n",
       "      <td>-1</td>\n",
       "    </tr>\n",
       "    <tr>\n",
       "      <th>2015-01-07</th>\n",
       "      <td>19.330000</td>\n",
       "      <td>19.500000</td>\n",
       "      <td>19.080000</td>\n",
       "      <td>19.139999</td>\n",
       "      <td>18.576082</td>\n",
       "      <td>8045200</td>\n",
       "      <td>19.860001</td>\n",
       "      <td>0.720002</td>\n",
       "      <td>0.037618</td>\n",
       "      <td>1</td>\n",
       "    </tr>\n",
       "  </tbody>\n",
       "</table>\n",
       "</div>"
      ],
      "text/plain": [
       "                 Open       High        Low      Close  Adj Close   Volume  \\\n",
       "Date                                                                         \n",
       "2014-12-31  20.400000  20.510000  19.990000  20.049999  19.459270  4157500   \n",
       "2015-01-02  20.129999  20.280001  19.809999  20.129999  19.536913  2842000   \n",
       "2015-01-05  20.129999  20.190001  19.700001  19.790001  19.206934  4948800   \n",
       "2015-01-06  19.820000  19.840000  19.170000  19.190001  18.624611  4944100   \n",
       "2015-01-07  19.330000  19.500000  19.080000  19.139999  18.576082  8045200   \n",
       "\n",
       "               Price1  priceDiff    Return  Direction  \n",
       "Date                                                   \n",
       "2014-12-31  20.129999   0.080000  0.003990          1  \n",
       "2015-01-02  19.790001  -0.339998 -0.016890         -1  \n",
       "2015-01-05  19.190001  -0.600000 -0.030318         -1  \n",
       "2015-01-06  19.139999  -0.050002 -0.002606         -1  \n",
       "2015-01-07  19.860001   0.720002  0.037618          1  "
      ]
     },
     "execution_count": 29,
     "metadata": {},
     "output_type": "execute_result"
    }
   ],
   "source": [
    "fb.head()"
   ]
  }
 ],
 "metadata": {
  "kernelspec": {
   "display_name": "Python 3",
   "language": "python",
   "name": "python3"
  },
  "language_info": {
   "codemirror_mode": {
    "name": "ipython",
    "version": 3
   },
   "file_extension": ".py",
   "mimetype": "text/x-python",
   "name": "python",
   "nbconvert_exporter": "python",
   "pygments_lexer": "ipython3",
   "version": "3.6.2"
  }
 },
 "nbformat": 4,
 "nbformat_minor": 2
}
